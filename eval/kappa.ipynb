{
 "cells": [
  {
   "cell_type": "code",
   "execution_count": 2,
   "id": "e556214b-1938-45b3-bff5-9bd358dd2caa",
   "metadata": {},
   "outputs": [],
   "source": [
    "import numpy as np\n",
    "import pandas as pd"
   ]
  },
  {
   "cell_type": "code",
   "execution_count": 3,
   "id": "6f69fa16-5246-498c-8744-df7887389550",
   "metadata": {},
   "outputs": [],
   "source": [
    "df_human = pd.read_csv('./score_human.csv')"
   ]
  },
  {
   "cell_type": "code",
   "execution_count": 6,
   "id": "d89516fa-3eb0-4108-8c59-8677ec612b65",
   "metadata": {},
   "outputs": [
    {
     "data": {
      "text/plain": [
       "Index(['sol1', 'sol2', 'sol3', 'SUPPORTIVENESS', 'USABILITY', 'RATIONALITY',\n",
       "       'INNOVATION'],\n",
       "      dtype='object')"
      ]
     },
     "execution_count": 6,
     "metadata": {},
     "output_type": "execute_result"
    }
   ],
   "source": [
    "df_human.keys()"
   ]
  },
  {
   "cell_type": "code",
   "execution_count": 10,
   "id": "d700d9d9-ff35-4d08-aab0-7f6cb8c17e48",
   "metadata": {},
   "outputs": [
    {
     "name": "stdout",
     "output_type": "stream",
     "text": [
      "线性加权卡帕系数: 0.5444\n",
      "二次加权卡帕系数: 0.6874\n"
     ]
    }
   ],
   "source": [
    "import pandas as pd\n",
    "from sklearn.metrics import cohen_kappa_score\n",
    "\n",
    "df_human = pd.read_csv('./score_human.csv')\n",
    "df_machine = pd.read_csv('./score_machine.csv')\n",
    "\n",
    "# 假设CSV中的列已经正确对应到每个评分者和每种评分类别\n",
    "# 例如，我们假设文件中包含两个评分者的评分数据\n",
    "ratings_annotator_A = df_human[['sol1', 'sol2', 'sol3', 'SUPPORTIVENESS', 'USABILITY', 'RATIONALITY', 'INNOVATION']].to_numpy()\n",
    "ratings_annotator_B = df_machine[['sol1', 'sol2', 'sol3', 'SUPPORTIVENESS', 'USABILITY', 'RATIONALITY', 'INNOVATION']].to_numpy()\n",
    "\n",
    "# 计算加权卡帕系数\n",
    "kappa_linear = cohen_kappa_score(ratings_annotator_A.flatten(), ratings_annotator_B.flatten(), weights='linear')\n",
    "kappa_quadratic = cohen_kappa_score(ratings_annotator_A.flatten(), ratings_annotator_B.flatten(), weights='quadratic')\n",
    "\n",
    "print(f\"线性加权卡帕系数: {kappa_linear:.4f}\")\n",
    "print(f\"二次加权卡帕系数: {kappa_quadratic:.4f}\")\n"
   ]
  }
 ],
 "metadata": {
  "kernelspec": {
   "display_name": "python-venv",
   "language": "python",
   "name": "python-venv"
  },
  "language_info": {
   "codemirror_mode": {
    "name": "ipython",
    "version": 3
   },
   "file_extension": ".py",
   "mimetype": "text/x-python",
   "name": "python",
   "nbconvert_exporter": "python",
   "pygments_lexer": "ipython3",
   "version": "3.11.6"
  }
 },
 "nbformat": 4,
 "nbformat_minor": 5
}
